{
 "cells": [
  {
   "cell_type": "code",
   "execution_count": 13,
   "metadata": {},
   "outputs": [],
   "source": [
    "import os\n",
    "import utils_general_porpose\n",
    "import pandas as pd"
   ]
  },
  {
   "cell_type": "code",
   "execution_count": 6,
   "metadata": {},
   "outputs": [
    {
     "name": "stdout",
     "output_type": "stream",
     "text": [
      "Current directory: /home/pajaro/compu_Pipe_V3\n"
     ]
    }
   ],
   "source": [
    "current_dir = os.getcwd()\n",
    "print(\"Current directory:\", current_dir)\n",
    "data = utils_general_porpose.load_json(current_dir, \"/concepts/clinical_concepts_20250402_205502.json\")"
   ]
  },
  {
   "cell_type": "code",
   "execution_count": 7,
   "metadata": {},
   "outputs": [
    {
     "name": "stdout",
     "output_type": "stream",
     "text": [
      "<class 'list'>\n"
     ]
    }
   ],
   "source": [
    "print(type(data))"
   ]
  },
  {
   "cell_type": "code",
   "execution_count": 8,
   "metadata": {},
   "outputs": [
    {
     "name": "stdout",
     "output_type": "stream",
     "text": [
      "[{'id_cliente': 1619, 'label': 1.0, 'entities': 'demencia    no especificada antecedentes cardiopatía hipertensiva insuficencia respiratoria adherencia hipotiroidismo obesidad negativos negativos fractura no camina capacidad emarcha marcha memoria reciente desorientación temporoespacial pérdida del interés normal incontinencia urinaria vive con 2 soplos pulmonar murmullo vesicular abdomen blando no doloroso edemas grado 3 xerodermia demencia micosis dependencia demencia tópico desnutricion proteicocalorica moderada demencia    no especificada antecedentes cardiopatía hipertensiva insuficencia respiratoria adherencia hipotiroidismo obesidad negativos negativos fractura deterioro come y deposición normal incontinencia urinaria vive con 2 pulmonar crepitantes edema leucoencefalopatía demencia probable enfermedad trastorno negativa ingesta 2 desnutrición obesidad dependencia desnutricion proteicocalorica moderada demencia    no especificada antecedentes cardiopatía hipertensiva insuficencia respiratoria adherencia hipotiroidismo obesidad negativos negativos accidente de transito fractura apatía mejorado marcha y deposición normal incontinencia urinaria valorable vive con 2 pulmonar crepitantes edema leucoencefalopatía demencia probable enfermedad trastorno negativa ingesta 2 desnutrición obesidad dependencia memoria hipersomnia diurna apatía desnutricion proteicocalorica moderada demencia    no especificada otros trastornos organicos de la personalidad y del comportamiento debidos a enfermedad   lesion y disfuncion cerebrales antecedentes cardiopatía hipertensiva insuficencia respiratoria adherencia hipotiroidismo obesidad negativos negativos accidente de transito fractura apatía mejorado marcha y deposición normal incontinencia urinaria valorable vive con 2 pulmonar crepitantes edema leucoencefalopatía demencia probable enfermedad trastorno negativa ingesta 2 desnutrición obesidad dependencia memoria hipersomnia diurna apatía memoria desnutricion proteicocalorica moderada demencia    no especificada otros trastornos organicos de la personalidad y del comportamiento debidos a enfermedad   lesion y disfuncion cerebrales cardiopatía hipertensiva insuficencia respiratoria adherencia hipotiroidismo negativos negativos accidente de transito fractura probable demencia atrastorno apatía incontinencia urinaria trastorno marcha desnutrición proteico obesidad apatía pulmonar crepitantes edema probable demencia comorbilidad glicemia dificultad probable trastorno memoria educación desnutricion proteicocalorica moderada demencia    no especificada otros trastornos organicos de la personalidad y del comportamiento debidos a enfermedad   lesion y disfuncion cerebrales cardiopatía hipertensiva insuficencia respiratoria adherencia hipotiroidismo negativos negativos accidente de transito fractura probable demencia atrastorno apatía incontinencia urinaria trastorno marcha desnutrición proteico obesidad peor apatía levanta ya de la cama urgencias infección urinaria hipoactivo somnolencia pulmonar crepitantes edema probable demencia comorbilidad deterioro trastorno somnolencia hiperglicemia apatía hipercapnia apatía diagnóstico memoria desnutricion proteicocalorica moderada demencia    no especificada desnutricion proteicocalorica moderada demencia    no especificada otros trastornos organicos de la personalidad y del comportamiento debidos a enfermedad   lesion y disfuncion cerebrales cardiopatía hipertensiva insuficencia respiratoria adherencia hipotiroidismo negativos negativos accidente de transito fractura probable demencia atrastorno apatía incontinencia urinaria trastorno marcha desnutrición proteico obesidad peor apatía levanta ya de la cama urgencias infección urinaria hipoactivo somnolencia pulmonar crepitantes edema probable demencia comorbilidad deterioro trastorno somnolencia hiperglicemia apatía hipercapnia apatía diagnóstico memoria diabetes mellitus insulinodependiente con complicaciones no especificadas demencia    no especificada hipertension esencial (primaria) cardiopatía hipertensiva hipotiroidismo primario desnutrición proteico obesidad probable demencia trastorno apatía dependencia trastorno marcha patrón de sueño hipersomnia diurna hipoglicemias edemas normal no doloroso irritación peritoneal sin edemas signos focalización marcha demencia mixta adherencia comorbilidades y ocupacional domiciliaria diabetes mellitus insulinodependiente con complicaciones no especificadas demencia    no especificada hipertension esencial (primaria) cardiopatía hipertensiva hipotiroidismo primario desnutrición proteico obesidad probable demencia trastorno apatía dependencia trastorno marcha alteración del patrón de sueño hipersomnia diurna posible realización hipoglicemias no caídas edemas normal no doloroso irritación peritoneal sin edemas irritable apática signos focalización marcha demencia mixta adherencia comorbilidades y ocupacional domiciliaria diabetes mellitus insulinodependiente con complicaciones no especificadas demencia    no especificada hipertension esencial (primaria) cardiopatía hipertensiva hipotiroidismo primario desnutrición proteico obesidad probable demencia trastorno apatía dependencia trastorno marcha hipoglicemias marcadas alteración del patrón de sueño hipersomnia diurna no caídas edemas suplementario. suplemento oral normal no doloroso irritación peritoneal sin edemas irritable apática signos focalización marcha normal demencia mixta adherencia comorbilidades hipoglicemias y ocupacional domiciliaria diabetes mellitus insulinodependiente con complicaciones no especificadas demencia    no especificada hipertension esencial (primaria) cardiopatía hipertensiva hipotiroidismo primario desnutrición proteico obesidad probable demencia trastorno apatía dependencia trastorno marcha hipoglicemias marcadas alteración del patrón de sueño hipersomnia diurna no caídas edemas suplementario. suplemento oral normal no doloroso irritación peritoneal sin edemas irritable apática signos focalización marcha normal demencia mixta adherencia comorbilidades hipoglicemias y ocupacional domiciliaria', 'codes': 'C0497327 C0332119 C0152105 C1145670 C0001511 C0020676 C0028754 C0205160 C0205160 C5547829 C0560047 C0231172 C0016928 C0016928 C0701811 C1737242 C0424091 C0205161 C0042024 C0595998 C0006318 C4522268 C0231857 C0426663 C0578687 C0013604 C0450094 C0043345 C0497327 C0026946 C0439857 C0497327 C0392707 C0349366 C0497327 C0332119 C0152105 C1145670 C0001511 C0020676 C0028754 C0205160 C0205160 C5547829 C0684336 C0566307 C0426742 C0205161 C0042024 C0595998 C4522268 C0034642 C0013604 C0270612 C0497327 C0332148 C0221423 C0012634 C0205160 C0232997 C0162429 C0028754 C0439857 C0349366 C0497327 C0332119 C0152105 C1145670 C0001511 C0020676 C0028754 C0205160 C0205160 C0221706 C5547829 C0085632 C0184511 C0016928 C0426742 C0205161 C0042024 C1707258 C0595998 C4522268 C0034642 C0013604 C0270612 C0497327 C0332148 C0221423 C0012634 C0205160 C0232997 C0162429 C0028754 C0439857 C0700327 C3662832 C0085632 C0349366 C0497327 C0349093 C0332119 C0152105 C1145670 C0001511 C0020676 C0028754 C0205160 C0205160 C0221706 C5547829 C0085632 C0184511 C0016928 C0426742 C0205161 C0042024 C1707258 C0595998 C4522268 C0034642 C0013604 C0270612 C0497327 C0332148 C0221423 C0012634 C0205160 C0232997 C0162429 C0028754 C0439857 C0700327 C3662832 C0085632 C0700327 C0349366 C0497327 C0349093 C0152105 C1145670 C0001511 C0020676 C0205160 C0205160 C0221706 C5547829 C0332148 C0497327 C0012634 C0085632 C0042024 C0012634 C0016928 C0022806 C0028754 C0085632 C4522268 C0034642 C0013604 C0332148 C0497327 C1275743 C2585282 C1299586 C0332148 C0012634 C0700327 C0013658 C0349366 C0497327 C0349093 C0152105 C1145670 C0001511 C0020676 C0205160 C0205160 C0221706 C5547829 C0332148 C0497327 C0012634 C0085632 C0042024 C0012634 C0016928 C0022806 C0028754 C1457868 C0085632 C0578364 C0277937 C0042029 C0086439 C0541992 C4522268 C0034642 C0013604 C0332148 C0497327 C1275743 C0684336 C0012634 C0541992 C0020456 C0085632 C0020440 C0085632 C0686906 C0700327 C0349366 C0497327 C0349366 C0497327 C0349093 C0152105 C1145670 C0001511 C0020676 C0205160 C0205160 C0221706 C5547829 C0332148 C0497327 C0012634 C0085632 C0042024 C0012634 C0016928 C0022806 C0028754 C1457868 C0085632 C0578364 C0277937 C0042029 C0086439 C0541992 C4522268 C0034642 C0013604 C0332148 C0497327 C1275743 C0684336 C0012634 C0541992 C0020456 C0085632 C0020440 C0085632 C0686906 C0700327 C1299613 C0497327 C0085580 C0152105 C0700502 C0022806 C0028754 C0332148 C0497327 C0012634 C0085632 C0439857 C0012634 C0016928 C0474396 C3662832 C0020615 C0013604 C0205161 C0578687 C0559537 C0474438 C0311392 C0564182 C0016928 C3532942 C0001511 C1275743 C0425193 C1299613 C0497327 C0085580 C0152105 C0700502 C0022806 C0028754 C0332148 C0497327 C0012634 C0085632 C0439857 C0012634 C0016928 C0150079 C3662832 C0332149 C0233754 C0020615 C0231666 C0013604 C0205161 C0578687 C0559537 C0474438 C0022107 C0085632 C0311392 C0564182 C0016928 C3532942 C0001511 C1275743 C0425193 C1299613 C0497327 C0085580 C0152105 C0700502 C0022806 C0028754 C0332148 C0497327 C0012634 C0085632 C0439857 C0012634 C0016928 C0020615 C0232602 C0150079 C3662832 C0231666 C0013604 C5441989 C4521986 C0205161 C0578687 C0559537 C0474438 C0022107 C0085632 C0311392 C0564182 C0016928 C0205161 C3532942 C0001511 C1275743 C0020615 C0425193 C1299613 C0497327 C0085580 C0152105 C0700502 C0022806 C0028754 C0332148 C0497327 C0012634 C0085632 C0439857 C0012634 C0016928 C0020615 C0232602 C0150079 C3662832 C0231666 C0013604 C5441989 C4521986 C0205161 C0578687 C0559537 C0474438 C0022107 C0085632 C0311392 C0564182 C0016928 C0205161 C3532942 C0001511 C1275743 C0020615 C0425193'}]\n"
     ]
    }
   ],
   "source": [
    "print(data[:1])"
   ]
  },
  {
   "cell_type": "code",
   "execution_count": 12,
   "metadata": {},
   "outputs": [
    {
     "name": "stdout",
     "output_type": "stream",
     "text": [
      "1619\n",
      "1.0\n",
      "demencia    no especificada antecedentes cardiopatía hipertensiva insuficencia respiratoria adherencia hipotiroidismo obesidad negativos negativos fractura no camina capacidad emarcha marcha memoria reciente desorientación temporoespacial pérdida del interés normal incontinencia urinaria vive con 2 soplos pulmonar murmullo vesicular abdomen blando no doloroso edemas grado 3 xerodermia demencia micosis dependencia demencia tópico desnutricion proteicocalorica moderada demencia    no especificada antecedentes cardiopatía hipertensiva insuficencia respiratoria adherencia hipotiroidismo obesidad negativos negativos fractura deterioro come y deposición normal incontinencia urinaria vive con 2 pulmonar crepitantes edema leucoencefalopatía demencia probable enfermedad trastorno negativa ingesta 2 desnutrición obesidad dependencia desnutricion proteicocalorica moderada demencia    no especificada antecedentes cardiopatía hipertensiva insuficencia respiratoria adherencia hipotiroidismo obesidad negativos negativos accidente de transito fractura apatía mejorado marcha y deposición normal incontinencia urinaria valorable vive con 2 pulmonar crepitantes edema leucoencefalopatía demencia probable enfermedad trastorno negativa ingesta 2 desnutrición obesidad dependencia memoria hipersomnia diurna apatía desnutricion proteicocalorica moderada demencia    no especificada otros trastornos organicos de la personalidad y del comportamiento debidos a enfermedad   lesion y disfuncion cerebrales antecedentes cardiopatía hipertensiva insuficencia respiratoria adherencia hipotiroidismo obesidad negativos negativos accidente de transito fractura apatía mejorado marcha y deposición normal incontinencia urinaria valorable vive con 2 pulmonar crepitantes edema leucoencefalopatía demencia probable enfermedad trastorno negativa ingesta 2 desnutrición obesidad dependencia memoria hipersomnia diurna apatía memoria desnutricion proteicocalorica moderada demencia    no especificada otros trastornos organicos de la personalidad y del comportamiento debidos a enfermedad   lesion y disfuncion cerebrales cardiopatía hipertensiva insuficencia respiratoria adherencia hipotiroidismo negativos negativos accidente de transito fractura probable demencia atrastorno apatía incontinencia urinaria trastorno marcha desnutrición proteico obesidad apatía pulmonar crepitantes edema probable demencia comorbilidad glicemia dificultad probable trastorno memoria educación desnutricion proteicocalorica moderada demencia    no especificada otros trastornos organicos de la personalidad y del comportamiento debidos a enfermedad   lesion y disfuncion cerebrales cardiopatía hipertensiva insuficencia respiratoria adherencia hipotiroidismo negativos negativos accidente de transito fractura probable demencia atrastorno apatía incontinencia urinaria trastorno marcha desnutrición proteico obesidad peor apatía levanta ya de la cama urgencias infección urinaria hipoactivo somnolencia pulmonar crepitantes edema probable demencia comorbilidad deterioro trastorno somnolencia hiperglicemia apatía hipercapnia apatía diagnóstico memoria desnutricion proteicocalorica moderada demencia    no especificada desnutricion proteicocalorica moderada demencia    no especificada otros trastornos organicos de la personalidad y del comportamiento debidos a enfermedad   lesion y disfuncion cerebrales cardiopatía hipertensiva insuficencia respiratoria adherencia hipotiroidismo negativos negativos accidente de transito fractura probable demencia atrastorno apatía incontinencia urinaria trastorno marcha desnutrición proteico obesidad peor apatía levanta ya de la cama urgencias infección urinaria hipoactivo somnolencia pulmonar crepitantes edema probable demencia comorbilidad deterioro trastorno somnolencia hiperglicemia apatía hipercapnia apatía diagnóstico memoria diabetes mellitus insulinodependiente con complicaciones no especificadas demencia    no especificada hipertension esencial (primaria) cardiopatía hipertensiva hipotiroidismo primario desnutrición proteico obesidad probable demencia trastorno apatía dependencia trastorno marcha patrón de sueño hipersomnia diurna hipoglicemias edemas normal no doloroso irritación peritoneal sin edemas signos focalización marcha demencia mixta adherencia comorbilidades y ocupacional domiciliaria diabetes mellitus insulinodependiente con complicaciones no especificadas demencia    no especificada hipertension esencial (primaria) cardiopatía hipertensiva hipotiroidismo primario desnutrición proteico obesidad probable demencia trastorno apatía dependencia trastorno marcha alteración del patrón de sueño hipersomnia diurna posible realización hipoglicemias no caídas edemas normal no doloroso irritación peritoneal sin edemas irritable apática signos focalización marcha demencia mixta adherencia comorbilidades y ocupacional domiciliaria diabetes mellitus insulinodependiente con complicaciones no especificadas demencia    no especificada hipertension esencial (primaria) cardiopatía hipertensiva hipotiroidismo primario desnutrición proteico obesidad probable demencia trastorno apatía dependencia trastorno marcha hipoglicemias marcadas alteración del patrón de sueño hipersomnia diurna no caídas edemas suplementario. suplemento oral normal no doloroso irritación peritoneal sin edemas irritable apática signos focalización marcha normal demencia mixta adherencia comorbilidades hipoglicemias y ocupacional domiciliaria diabetes mellitus insulinodependiente con complicaciones no especificadas demencia    no especificada hipertension esencial (primaria) cardiopatía hipertensiva hipotiroidismo primario desnutrición proteico obesidad probable demencia trastorno apatía dependencia trastorno marcha hipoglicemias marcadas alteración del patrón de sueño hipersomnia diurna no caídas edemas suplementario. suplemento oral normal no doloroso irritación peritoneal sin edemas irritable apática signos focalización marcha normal demencia mixta adherencia comorbilidades hipoglicemias y ocupacional domiciliaria\n",
      "5256\n",
      "1.0\n",
      "hipertension esencial (primaria) infarto antiguo del miocardio control general de salud de rutina de residentes de instituciones ocupación escolaridad escolaridad enfermedad salud antecedentes hiperplasia insomnio hernia discal enfermedad coronaria angina perforación desprendimientos de retina dislipidemia paralisis facial hipoacusia lesión revascularización influenza riesgo cardiovascular hipertensión enfermedad coronaria dislipidemia presentes incontinencia urinaria insomnio signos normal depresión fragilidad prensión marcha 4 metros fragilidad perfusión miocárdica insuficiencia coronaria estrés farmacológico colesterol total ventrículo izquierdo normal trastorno discapacidad posterior realización por servicio de geriatría control general de salud de rutina de residentes de instituciones con diagnósticos revascularización enfermedad coronaria lesión lesión y enfermedad re-estenosis permeable hipertensión arterial hiperplasia insomnio hernia discal dislipidemia trastorno cognitivo independiente hipoacusia red de apoyo social relación memoria desempeño en el trabajo camina síntomas disnea dolor presencia incontinencia urinaria prensión marcha 4 metros oral torax simétrico abdomen blando no doloroso presentes sin edema presencia orientado signos focalización perfusión miocárdica insuficiencia coronaria estrés farmacológico colesterol total ventrículo izquierdo normal trastorno independiente transtorno cognitivo memoria sin enfermedad se debe hacer riesgo cardiovascular tension arterial caminar aumento de la función disminución de filtración glomerular función renal control general de salud de rutina de residentes de instituciones con diagnósticos revascularización enfermedad coronaria lesión lesión y enfermedad re-estenosis permeable hipertensión arterial hiperplasia insomnio hernia discal dislipidemia trastorno cognitivo independiente hipoacusia red de apoyo social dentro de limites normales disnea prensión marcha 4 metros oral torax simétrico abdomen blando no doloroso presentes sin edema presencia orientado signos focalización perfusión miocárdica insuficiencia coronaria estrés farmacológico colesterol total ventrículo izquierdo normal trastorno independiente transtorno cognitivo antecedente enfermedad coronaria tension arterial dentro de limites normales enfermedad renal alimentación hidratación sarcopenia fragilidad desacondicionamiento fisico marcha disnea antecedente de hta hipercolesterolemia enfermedad disnea signos isquemia disnea signos isquemia negativo examen de laboratorio negativo control general de salud de rutina de residentes de instituciones con diagnósticos revascularización enfermedad coronaria lesión lesión y enfermedad re-estenosis permeable hipertensión arterial hiperplasia insomnio hernia discal dislipidemia trastorno cognitivo independiente hipoacusia red de apoyo social tensión arterial hipotensión hipertensión dolor síntoma prensión marcha 4 metros oral torax simétrico abdomen blando no doloroso presentes sin edema presencia orientado signos focalización ventrículo izquierdo normal función sistólica trastornos signos disfunción dilatación ateroesclerosis estenosis esclerosis estenosis dilatación presión sistólica de la arteria pulmonar de presión arterial anormal sistólico glicemia perfusión miocárdica insuficiencia coronaria estrés farmacológico colesterol total ventrículo izquierdo normal trastorno independiente transtorno cognitivo antecedente enfermedad coronaria de presión arterial hipertensión de presión arterial función renal   renal cronica alimentación hidratación relación proteinuria sarcopenia fragilidad desacondicionamiento fisico marcha hipertensión arterial de control  control hipertension esencial (primaria) cardiomiopatia isquemica con diagnósticos revascularización enfermedad coronaria lesión lesión y enfermedad re-estenosis permeable hipertensión arterial hiperplasia insomnio hernia discal dislipidemia trastorno cognitivo independiente hipoacusia red de apoyo social presenta memoria memoria problema preocupa debilidad fatiga dolor reflujo presencia tos prensión marcha 4 metros oral torax simétrico abdomen blando no doloroso presentes sin edema presencia orientado signos focalización normal depresión ventrículo izquierdo normal función sistólica trastornos signos disfunción dilatación ateroesclerosis estenosis esclerosis estenosis dilatación presión sistólica de la arteria pulmonar de presión arterial anormal sistólico glicemia perfusión miocárdica insuficiencia coronaria estrés farmacológico colesterol total ventrículo izquierdo normal trastorno con diagnóstico cardiopatía antecedente de rvm tensión arterial memoria normal funcion renal disminuida variación insuficiencia renal cronica   no especificada con diagnósticos normal deterioro normal normal ventrículo izquierdo normal función sistólica trastornos signos disfunción dilatación ateroesclerosis estenosis esclerosis estenosis dilatación presión sistólica de la arteria pulmonar de presión arterial anormal sistólico con diagnóstico cardiopatía antecedente de rvm tension arterial hipotension dolor en el pecho   no especificado urgencias ocupación motivo de consulta malestar temblor enfermedad antecedentes calor temblor debilidad en las piernas temblor ansiedad fatiga mareo ningun antecedentes revascularización enfermedad coronaria lesión lesión y enfermedad re-estenosis permeable hipertensión arterial hiperplasia insomnio hernia discal dislipidemia paciente en buen estado general afebril anictéricas ingurgitación soplos simétrica ruidos respiratorios ruidos soplos signos dificultad respiratoria dolor no doloroso signos irritación peritoneal ruidos intestinales presentes no aumentados presentes simétricos edemas negativa consciente orientada coherente isocoria presente sensibilidad simetría facial normal simétrico simétrico dismetría diadococinesia signos marcha diagnóstico dolor trastorno ansiedad revascularización enfermedad coronaria lesión lesión y enfermedad re-estenosis permeable 3.hipertensión arterial hiperplasia insomnio hernia discal 7dislipidemia comorbilidades dolor antecedentes urgencias dolor en el pecho   no especificado urgencias dolor trastorno ansiedad revascularización enfermedad coronaria lesión lesión y enfermedad re-estenosis permeable 3.hipertensión arterial hiperplasia insomnio hernia discal 7dislipidemia frecuencia respiratoria anictéricas ingurgitación soplos simétrica ruidos respiratorios ruidos soplos signos dificultad respiratoria dolor no doloroso signos irritación peritoneal ruidos intestinales presentes no aumentados presentes simétricos edemas negativa consciente orientada coherente isocoria presente sensibilidad simetría facial normal simétrico simétrico dismetría diadococinesia signos marcha isquemia comorbilidades patologia cardiovascular trastorno signos urgencias examen de laboratorio prurito   no especificado queratosis seborreica prurito queratosisi dermatitis seborreica normal queratosis actinica prurito queratosisis dermatitis seborreica consentimiento informado infiltra tumor maligno de la piel de la oreja y del conducto auditivo externo fibroxantoma fibroxantoma tumor de células fusiformes maligno tumor maligno de la piel de otras partes y de las no especificadas de la cara en pabellón auricular fibroxantoma antecedentes hipertension arteria hipoacusia parálisis facial presenta y cicatriz masa fibroxantoma tumor de células fusiformes maligno carcinoma in situ de la piel de la oreja y del conducto auditivo externo hiperlipidemia no especificada hipertension esencial (primaria) enfermedad aterosclerotica del corazon comorbilidaddes enfermedad coronaria hipertension arterial hiperlipidemia tumor posibles enfermedad aterosclerotica del corazon trastornos signos disfuncion esclerosis estenosis ritmo sinusal bradicardia sinusal trastorno auricular izquierdo comorbilidaddes enfermedad coronaria hipertension arterial hiperlipidemia tumor posibles tumor benigno de la piel   sitio no especificado formulación de medicamento tumor maligno de la piel de la oreja y del conducto auditivo externo fibroxantoma defecto anestesia limpia sangrado posterior tumor maligno de la piel de otras partes y de las no especificadas de la cara fibroxantoma defecto dolor fiebre hematoma dolor signos signos tumor maligno de la piel de otras partes y de las no especificadas de la cara fibroxantoma defecto dolor fiebre escara dolor signos signos tumor maligno de la piel de otras partes y de las no especificadas de la cara fibroxantoma defecto escara cicatrizacion de cuero cabelludo signos tumor maligno de la piel de la oreja y del conducto auditivo externo con diagnósticos fibroxantoma tumor queratosis condrodermatitis nodular queratosis nevus en región lumbar izquierda fibroxantoma queratosis tumor fibroxantoma confirmado condrodermatitis nodular infiltracion queratosis nevus queratosis actinica queratosis seborreica nevus queratosis queratosis fibroxantoma queratosis tumor placas en pabellón auricular cicatriz atrófica placas uña del pie impresión fibroxantoma tumor queratosis condrodermatitis nodular queratosis nevus en región lumbar izquierda nevus consentimiento informado infiltra sangrado queratosis consentimiento informado infiltra queratosis queratosis consentimiento informado queratosis queratosis queratosis actinica con diagnósticos fibroxantoma tumor queratosis condrodermatitis nodular queratosis nevus en región lumbar izquierda región lumbar izquierda contextura lesión melanocítica proliferación lentiginoso fibroplasia infiltrado linfocitos región lumbar izquierda nevus fibroxantoma queratosis tumor fibroxantoma confirmado nevus hernia inguinal unilateral o no especificada   sin obstrucion ni gangrena sintomática\n"
     ]
    }
   ],
   "source": [
    "for i in data[:2]:\n",
    "    #print(i)\n",
    "    print(i['id_cliente'])\n",
    "    print(i['label'])\n",
    "    print(i['entities'])"
   ]
  },
  {
   "cell_type": "code",
   "execution_count": 15,
   "metadata": {},
   "outputs": [
    {
     "data": {
      "text/html": [
       "<div>\n",
       "<style scoped>\n",
       "    .dataframe tbody tr th:only-of-type {\n",
       "        vertical-align: middle;\n",
       "    }\n",
       "\n",
       "    .dataframe tbody tr th {\n",
       "        vertical-align: top;\n",
       "    }\n",
       "\n",
       "    .dataframe thead th {\n",
       "        text-align: right;\n",
       "    }\n",
       "</style>\n",
       "<table border=\"1\" class=\"dataframe\">\n",
       "  <thead>\n",
       "    <tr style=\"text-align: right;\">\n",
       "      <th></th>\n",
       "      <th>id_cliente</th>\n",
       "      <th>label</th>\n",
       "      <th>entities</th>\n",
       "      <th>codes</th>\n",
       "    </tr>\n",
       "  </thead>\n",
       "  <tbody>\n",
       "    <tr>\n",
       "      <th>0</th>\n",
       "      <td>1619</td>\n",
       "      <td>1.0</td>\n",
       "      <td>demencia    no especificada antecedentes cardi...</td>\n",
       "      <td>C0497327 C0332119 C0152105 C1145670 C0001511 C...</td>\n",
       "    </tr>\n",
       "    <tr>\n",
       "      <th>1</th>\n",
       "      <td>5256</td>\n",
       "      <td>1.0</td>\n",
       "      <td>hipertension esencial (primaria) infarto antig...</td>\n",
       "      <td>C0085580 C0155668 C0478671 C0041674 C0013658 C...</td>\n",
       "    </tr>\n",
       "    <tr>\n",
       "      <th>2</th>\n",
       "      <td>7039</td>\n",
       "      <td>1.0</td>\n",
       "      <td>artritis   no especificada antecedente artriti...</td>\n",
       "      <td>C0003864 C0332119 C0003873 C0231441 C0029410 C...</td>\n",
       "    </tr>\n",
       "    <tr>\n",
       "      <th>3</th>\n",
       "      <td>9669</td>\n",
       "      <td>1.0</td>\n",
       "      <td>otro dolor cronico dolor dolor dolor anteceden...</td>\n",
       "      <td>C0478148 C0030193 C0030193 C0030193 C0332119 C...</td>\n",
       "    </tr>\n",
       "    <tr>\n",
       "      <th>4</th>\n",
       "      <td>10915</td>\n",
       "      <td>1.0</td>\n",
       "      <td>malformacion congenitas de las camaras cardiac...</td>\n",
       "      <td>C0478009 C0010200 C0220704 C0014175 C0006285 C...</td>\n",
       "    </tr>\n",
       "  </tbody>\n",
       "</table>\n",
       "</div>"
      ],
      "text/plain": [
       "   id_cliente  label                                           entities  \\\n",
       "0        1619    1.0  demencia    no especificada antecedentes cardi...   \n",
       "1        5256    1.0  hipertension esencial (primaria) infarto antig...   \n",
       "2        7039    1.0  artritis   no especificada antecedente artriti...   \n",
       "3        9669    1.0  otro dolor cronico dolor dolor dolor anteceden...   \n",
       "4       10915    1.0  malformacion congenitas de las camaras cardiac...   \n",
       "\n",
       "                                               codes  \n",
       "0  C0497327 C0332119 C0152105 C1145670 C0001511 C...  \n",
       "1  C0085580 C0155668 C0478671 C0041674 C0013658 C...  \n",
       "2  C0003864 C0332119 C0003873 C0231441 C0029410 C...  \n",
       "3  C0478148 C0030193 C0030193 C0030193 C0332119 C...  \n",
       "4  C0478009 C0010200 C0220704 C0014175 C0006285 C...  "
      ]
     },
     "execution_count": 15,
     "metadata": {},
     "output_type": "execute_result"
    }
   ],
   "source": [
    "df = pd.DataFrame(data)\n",
    "df.head()"
   ]
  },
  {
   "cell_type": "code",
   "execution_count": null,
   "metadata": {},
   "outputs": [],
   "source": []
  }
 ],
 "metadata": {
  "kernelspec": {
   "display_name": "Python 3",
   "language": "python",
   "name": "python3"
  },
  "language_info": {
   "codemirror_mode": {
    "name": "ipython",
    "version": 3
   },
   "file_extension": ".py",
   "mimetype": "text/x-python",
   "name": "python",
   "nbconvert_exporter": "python",
   "pygments_lexer": "ipython3",
   "version": "3.9.21"
  }
 },
 "nbformat": 4,
 "nbformat_minor": 2
}
