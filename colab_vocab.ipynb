{
 "cells": [
  {
   "cell_type": "code",
   "execution_count": 1,
   "id": "836add7d",
   "metadata": {},
   "outputs": [],
   "source": [
    "import numpy as np"
   ]
  },
  {
   "cell_type": "code",
   "execution_count": 3,
   "id": "9f0ebfb3",
   "metadata": {},
   "outputs": [],
   "source": [
    "vocabulary = np.load('./performance_zine/20250421_143517/vocab.npy')"
   ]
  },
  {
   "cell_type": "code",
   "execution_count": 5,
   "id": "71f457c6",
   "metadata": {},
   "outputs": [
    {
     "name": "stdout",
     "output_type": "stream",
     "text": [
      "Vocabulary size: 1000\n",
      "Vocabulary: ['' '[UNK]' 'enfermedad' 'obesidad' 'asma' 'hipotiroidismo' 'leucocitos'\n",
      " 'asma_no_especificada' 'dislipidemia' 'falla_respiratoria']\n",
      "type: <class 'numpy.ndarray'>\n"
     ]
    }
   ],
   "source": [
    "print('Vocabulary size:', len(vocabulary))\n",
    "print('Vocabulary:', vocabulary[:10])\n",
    "print('type:', type(vocabulary))"
   ]
  },
  {
   "cell_type": "code",
   "execution_count": 6,
   "id": "e27036de",
   "metadata": {},
   "outputs": [],
   "source": [
    "X_train = np.load('./performance_zine/20250421_143517/X_train.npy')"
   ]
  },
  {
   "cell_type": "code",
   "execution_count": 7,
   "id": "dbe6dbba",
   "metadata": {},
   "outputs": [
    {
     "name": "stdout",
     "output_type": "stream",
     "text": [
      "X_train shape: (306, 4)\n",
      "ten first elements of X_train: [[548 548 764 211]\n",
      " [457   2   1 358]\n",
      " [441 170   1   1]\n",
      " [186 119 320   1]\n",
      " [ 15  57   2  57]\n",
      " [707 403 624 624]\n",
      " [  7   7   7  13]\n",
      " [911 154 882   1]\n",
      " [527 161  18   2]\n",
      " [ 34   3   3   3]]\n",
      "type: <class 'numpy.ndarray'>\n"
     ]
    }
   ],
   "source": [
    "print(\"X_train shape:\", X_train.shape)\n",
    "print(\"ten first elements of X_train:\", X_train[:10])\n",
    "print(\"type:\", type(X_train))"
   ]
  },
  {
   "cell_type": "code",
   "execution_count": null,
   "id": "a6d6ce7b",
   "metadata": {},
   "outputs": [
    {
     "name": "stdout",
     "output_type": "stream",
     "text": [
      "[548 548 764 211]\n",
      "['examen_de_pesquisa_especial_para_tumor_de_la_mama', 'ateromatosis', 'leucoencefalopatía', '[UNK]']\n"
     ]
    }
   ],
   "source": [
    "print(X_train[0])\n",
    "X_seq = []\n",
    "patient_n = 7\n",
    "for i in range(len(X_train[patient_n])):\n",
    "    number = X_train[patient_n][i]\n",
    "    enf = vocabulary[number]\n",
    "    X_seq.append(enf)\n",
    "print(X_seq)"
   ]
  },
  {
   "cell_type": "code",
   "execution_count": null,
   "id": "524944de",
   "metadata": {},
   "outputs": [],
   "source": []
  }
 ],
 "metadata": {
  "kernelspec": {
   "display_name": "Python 3",
   "language": "python",
   "name": "python3"
  },
  "language_info": {
   "codemirror_mode": {
    "name": "ipython",
    "version": 3
   },
   "file_extension": ".py",
   "mimetype": "text/x-python",
   "name": "python",
   "nbconvert_exporter": "python",
   "pygments_lexer": "ipython3",
   "version": "3.9.21"
  }
 },
 "nbformat": 4,
 "nbformat_minor": 5
}
