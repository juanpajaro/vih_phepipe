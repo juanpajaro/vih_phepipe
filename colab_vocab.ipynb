{
 "cells": [
  {
   "cell_type": "code",
   "execution_count": 1,
   "id": "836add7d",
   "metadata": {},
   "outputs": [],
   "source": [
    "import numpy as np"
   ]
  },
  {
   "cell_type": "code",
   "execution_count": 2,
   "id": "9f0ebfb3",
   "metadata": {},
   "outputs": [],
   "source": [
    "vocabulary = np.load('./performance_zine/tokens/20250507_133803/vocab.npy')"
   ]
  },
  {
   "cell_type": "code",
   "execution_count": 3,
   "id": "71f457c6",
   "metadata": {},
   "outputs": [
    {
     "name": "stdout",
     "output_type": "stream",
     "text": [
      "Vocabulary size: 670\n",
      "Vocabulary: ['' '[UNK]' 'asma_no_especificada'\n",
      " 'otros_estados_postquirurgicos_especificados'\n",
      " 'tumor_maligno_de_la_mama_parte_no_especificada'\n",
      " 'hipertension_esencial_(primaria)' 'polipo_del_colon'\n",
      " 'enfermedad_pulmonar_obstructiva_cronica_no_especificada'\n",
      " 'artritis_reumatoide_no_especificada' 'endometriosis_no_especificada']\n",
      "type: <class 'numpy.ndarray'>\n"
     ]
    }
   ],
   "source": [
    "print('Vocabulary size:', len(vocabulary))\n",
    "print('Vocabulary:', vocabulary[:10])\n",
    "print('type:', type(vocabulary))"
   ]
  },
  {
   "cell_type": "code",
   "execution_count": 9,
   "id": "e27036de",
   "metadata": {},
   "outputs": [],
   "source": [
    "X_train = np.load('./performance_zine/tokens/20250507_133803/X_train.npy')"
   ]
  },
  {
   "cell_type": "code",
   "execution_count": 10,
   "id": "dbe6dbba",
   "metadata": {},
   "outputs": [
    {
     "name": "stdout",
     "output_type": "stream",
     "text": [
      "X_train shape: (306, 30)\n",
      "ten first elements of X_train: [[  4   4   4   4   4  16  32  32  32  32  32 589  32  32 609  32  32  32\n",
      "    0   0   0   0   0   0   0   0   0   0   0   0]\n",
      " [305 363 553 519 268 268 648   0   0   0   0   0   0   0   0   0   0   0\n",
      "    0   0   0   0   0   0   0   0   0   0   0   0]\n",
      " [282 286 167 286 167 286   0   0   0   0   0   0   0   0   0   0   0   0\n",
      "    0   0   0   0   0   0   0   0   0   0   0   0]\n",
      " [392 121   0   0   0   0   0   0   0   0   0   0   0   0   0   0   0   0\n",
      "    0   0   0   0   0   0   0   0   0   0   0   0]\n",
      " [320 555 430 430   0   0   0   0   0   0   0   0   0   0   0   0   0   0\n",
      "    0   0   0   0   0   0   0   0   0   0   0   0]\n",
      " [183  49   5 198 264 108 183 183 183 183 246 246 246 246 246  49  49  49\n",
      "   49  49  49 129  76 622 264  14  49  49  49  49]\n",
      " [ 66  16  66  16 302 302 302   0   0   0   0   0   0   0   0   0   0   0\n",
      "    0   0   0   0   0   0   0   0   0   0   0   0]\n",
      " [ 15  15  15  15  15  15  15  15  15  15   7   7   7   7   7   7   7   7\n",
      "    7   7   7   7   7   7   7   7   7   7   7   7]\n",
      " [103  57 103  57   0   0   0   0   0   0   0   0   0   0   0   0   0   0\n",
      "    0   0   0   0   0   0   0   0   0   0   0   0]\n",
      " [101 101   0   0   0   0   0   0   0   0   0   0   0   0   0   0   0   0\n",
      "    0   0   0   0   0   0   0   0   0   0   0   0]\n",
      " [  9   9   9   9   9   9   9   9   9   9   9   9   9   9   9   9   9   9\n",
      "    9   9   9   9   9   9   9   9   9   9   9   9]\n",
      " [ 10 263  10 263  10 263 216 216 216 216 216 470  10 470  10  58  58  58\n",
      "   58  58  58  58  58  58  58  58  58  58  58  58]\n",
      " [279 279 279 279 445 445  33  21 160   0   0   0   0   0   0   0   0   0\n",
      "    0   0   0   0   0   0   0   0   0   0   0   0]\n",
      " [301  88  88  88  88  88  88  88  88  88  88 301  21 230  21 230  21 230\n",
      "   21 230  21 230  21 230 305 159 172   0   0   0]\n",
      " [220  45 220  45   0   0   0   0   0   0   0   0   0   0   0   0   0   0\n",
      "    0   0   0   0   0   0   0   0   0   0   0   0]\n",
      " [ 41  76 197 121 536  21 432  41  76 197 121 197  41  97  97  97  97  97\n",
      "   97  97   5  97  97  97  97  97  97  97  97  97]\n",
      " [ 39 195  21   5 208  63  63   5 629   7 195  63  63  63  63  63  63  63\n",
      "   63  63  63  63  63  63  63  63  63  63  63  63]\n",
      " [ 21   0   0   0   0   0   0   0   0   0   0   0   0   0   0   0   0   0\n",
      "    0   0   0   0   0   0   0   0   0   0   0   0]\n",
      " [588 326   0   0   0   0   0   0   0   0   0   0   0   0   0   0   0   0\n",
      "    0   0   0   0   0   0   0   0   0   0   0   0]\n",
      " [288  48   0   0   0   0   0   0   0   0   0   0   0   0   0   0   0   0\n",
      "    0   0   0   0   0   0   0   0   0   0   0   0]\n",
      " [269  26 269  26 269  26 269  26 269  26 482   0   0   0   0   0   0   0\n",
      "    0   0   0   0   0   0   0   0   0   0   0   0]\n",
      " [ 85  17  85  17   0   0   0   0   0   0   0   0   0   0   0   0   0   0\n",
      "    0   0   0   0   0   0   0   0   0   0   0   0]\n",
      " [ 33 127 573   0   0   0   0   0   0   0   0   0   0   0   0   0   0   0\n",
      "    0   0   0   0   0   0   0   0   0   0   0   0]\n",
      " [195   0   0   0   0   0   0   0   0   0   0   0   0   0   0   0   0   0\n",
      "    0   0   0   0   0   0   0   0   0   0   0   0]\n",
      " [  5   0   0   0   0   0   0   0   0   0   0   0   0   0   0   0   0   0\n",
      "    0   0   0   0   0   0   0   0   0   0   0   0]\n",
      " [134  15 134  15 134  15 134  15 134  15 134  15 134  15 134  15 134  15\n",
      "  134  15 134  15 134  15  33   5 658  21   5  26]\n",
      " [321  98 160 321  98 321  98 160   0   0   0   0   0   0   0   0   0   0\n",
      "    0   0   0   0   0   0   0   0   0   0   0   0]\n",
      " [327 465 327 465  17  17 450  45 158 450   0   0   0   0   0   0   0   0\n",
      "    0   0   0   0   0   0   0   0   0   0   0   0]\n",
      " [311 311 155 311   0   0   0   0   0   0   0   0   0   0   0   0   0   0\n",
      "    0   0   0   0   0   0   0   0   0   0   0   0]\n",
      " [185   0   0   0   0   0   0   0   0   0   0   0   0   0   0   0   0   0\n",
      "    0   0   0   0   0   0   0   0   0   0   0   0]\n",
      " [153   0   0   0   0   0   0   0   0   0   0   0   0   0   0   0   0   0\n",
      "    0   0   0   0   0   0   0   0   0   0   0   0]]\n",
      "type: <class 'numpy.ndarray'>\n"
     ]
    }
   ],
   "source": [
    "print(\"X_train shape:\", X_train.shape)\n",
    "print(\"ten first elements of X_train:\", X_train[:31])\n",
    "print(\"type:\", type(X_train))"
   ]
  },
  {
   "cell_type": "code",
   "execution_count": 11,
   "id": "a6d6ce7b",
   "metadata": {},
   "outputs": [
    {
     "name": "stdout",
     "output_type": "stream",
     "text": [
      "[  4   4   4   4   4  16  32  32  32  32  32 589  32  32 609  32  32  32\n",
      "   0   0   0   0   0   0   0   0   0   0   0   0]\n",
      "['enfermedad_pulmonar_obstructiva_cronica_con_exacerbacion_aguda_no_especificada', 'enfermedad_pulmonar_obstructiva_cronica_con_exacerbacion_aguda_no_especificada', 'enfermedad_pulmonar_obstructiva_cronica_con_exacerbacion_aguda_no_especificada', 'enfermedad_pulmonar_obstructiva_cronica_con_exacerbacion_aguda_no_especificada', 'enfermedad_pulmonar_obstructiva_cronica_con_exacerbacion_aguda_no_especificada', 'enfermedad_pulmonar_obstructiva_cronica_con_exacerbacion_aguda_no_especificada', 'enfermedad_pulmonar_obstructiva_cronica_con_exacerbacion_aguda_no_especificada', 'enfermedad_pulmonar_obstructiva_cronica_con_exacerbacion_aguda_no_especificada', 'enfermedad_pulmonar_obstructiva_cronica_con_exacerbacion_aguda_no_especificada', 'enfermedad_pulmonar_obstructiva_cronica_con_exacerbacion_aguda_no_especificada', 'enfermedad_pulmonar_obstructiva_cronica_no_especificada', 'enfermedad_pulmonar_obstructiva_cronica_no_especificada', 'enfermedad_pulmonar_obstructiva_cronica_no_especificada', 'enfermedad_pulmonar_obstructiva_cronica_no_especificada', 'enfermedad_pulmonar_obstructiva_cronica_no_especificada', 'enfermedad_pulmonar_obstructiva_cronica_no_especificada', 'enfermedad_pulmonar_obstructiva_cronica_no_especificada', 'enfermedad_pulmonar_obstructiva_cronica_no_especificada', 'enfermedad_pulmonar_obstructiva_cronica_no_especificada', 'enfermedad_pulmonar_obstructiva_cronica_no_especificada', 'enfermedad_pulmonar_obstructiva_cronica_no_especificada', 'enfermedad_pulmonar_obstructiva_cronica_no_especificada', 'enfermedad_pulmonar_obstructiva_cronica_no_especificada', 'enfermedad_pulmonar_obstructiva_cronica_no_especificada', 'enfermedad_pulmonar_obstructiva_cronica_no_especificada', 'enfermedad_pulmonar_obstructiva_cronica_no_especificada', 'enfermedad_pulmonar_obstructiva_cronica_no_especificada', 'enfermedad_pulmonar_obstructiva_cronica_no_especificada', 'enfermedad_pulmonar_obstructiva_cronica_no_especificada', 'enfermedad_pulmonar_obstructiva_cronica_no_especificada']\n"
     ]
    }
   ],
   "source": [
    "print(X_train[0])\n",
    "X_seq = []\n",
    "patient_n = 7\n",
    "for i in range(len(X_train[patient_n])):\n",
    "    number = X_train[patient_n][i]\n",
    "    enf = vocabulary[number]\n",
    "    X_seq.append(enf)\n",
    "print(X_seq)"
   ]
  },
  {
   "cell_type": "code",
   "execution_count": null,
   "id": "524944de",
   "metadata": {},
   "outputs": [],
   "source": []
  }
 ],
 "metadata": {
  "kernelspec": {
   "display_name": "envs_cases_analysis",
   "language": "python",
   "name": "python3"
  },
  "language_info": {
   "codemirror_mode": {
    "name": "ipython",
    "version": 3
   },
   "file_extension": ".py",
   "mimetype": "text/x-python",
   "name": "python",
   "nbconvert_exporter": "python",
   "pygments_lexer": "ipython3",
   "version": "3.9.21"
  }
 },
 "nbformat": 4,
 "nbformat_minor": 5
}
